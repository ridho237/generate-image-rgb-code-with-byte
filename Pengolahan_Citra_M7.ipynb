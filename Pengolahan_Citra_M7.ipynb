{
  "cells": [
    {
      "cell_type": "markdown",
      "metadata": {
        "id": "view-in-github",
        "colab_type": "text"
      },
      "source": [
        "<a href=\"https://colab.research.google.com/github/ridho237/image-processing/blob/main/Pengolahan_Citra_M7.ipynb\" target=\"_parent\"><img src=\"https://colab.research.google.com/assets/colab-badge.svg\" alt=\"Open In Colab\"/></a>"
      ]
    },
    {
      "cell_type": "markdown",
      "source": [
        "#1. Importing Python Packages"
      ],
      "metadata": {
        "id": "pwMD6tABmMGS"
      }
    },
    {
      "cell_type": "code",
      "execution_count": 7,
      "metadata": {
        "id": "qWE_JQ-smr0c"
      },
      "outputs": [],
      "source": [
        "from PIL import Image\n",
        "import numpy as np"
      ]
    },
    {
      "cell_type": "markdown",
      "source": [
        "# 2. Membuat Fungsi untuk Menyisipkan pesan kedalam Gambar"
      ],
      "metadata": {
        "id": "vHCJfGpwmRet"
      }
    },
    {
      "cell_type": "code",
      "execution_count": 8,
      "metadata": {
        "id": "QyIEBKARm25x"
      },
      "outputs": [],
      "source": [
        "def encode_message(image, message):\n",
        "    # Konversi pesan menjadi biner\n",
        "    binary_message = ''.join([format(ord(char), '08b') for char in message])\n",
        "    binary_message += '00000000'  # Tambahkan penanda akhir pesan (8 bit nol)\n",
        "\n",
        "    # Ubah gambar ke array NumPy\n",
        "    img_array = np.array(image)\n",
        "    h, w = img_array.shape\n",
        "    flat_img_array = img_array.flatten()\n",
        "\n",
        "    if len(binary_message) > len(flat_img_array):\n",
        "        raise ValueError(\"Pesan terlalu panjang untuk disisipkan ke dalam gambar ini!\")\n",
        "\n",
        "    # Sisipkan pesan ke bit paling tidak signifikan\n",
        "    for i in range(len(binary_message)):\n",
        "        flat_img_array[i] = (flat_img_array[i] & ~1) | int(binary_message[i])\n",
        "\n",
        "    # Kembalikan array ke bentuk aslinya\n",
        "    encoded_img_array = flat_img_array.reshape(h, w)\n",
        "    return Image.fromarray(encoded_img_array)\n"
      ]
    },
    {
      "cell_type": "markdown",
      "source": [
        "#3. Membuat Fungsi untuk Membaca pesan kedalam Gambar"
      ],
      "metadata": {
        "id": "E8k7ZZogmbJ_"
      }
    },
    {
      "cell_type": "code",
      "source": [
        "def decode_message(encoded_image):\n",
        "    # Ubah gambar ke array NumPy\n",
        "    img_array = np.array(encoded_image)\n",
        "    flat_img_array = img_array.flatten()\n",
        "\n",
        "    # Ambil bit paling tidak signifikan untuk setiap pixel\n",
        "    binary_message = ''.join([str(pixel & 1) for pixel in flat_img_array])\n",
        "\n",
        "    # Konversi biner ke string hingga menemukan penanda akhir pesan\n",
        "    message = []\n",
        "    for i in range(0, len(binary_message), 8):\n",
        "        byte = binary_message[i:i+8]\n",
        "        if byte == '00000000':  # Penanda akhir pesan\n",
        "            break\n",
        "        message.append(chr(int(byte, 2)))\n",
        "    return ''.join(message)\n"
      ],
      "metadata": {
        "id": "_9eiciXtlxWB"
      },
      "execution_count": 9,
      "outputs": []
    },
    {
      "cell_type": "markdown",
      "source": [
        "#4. Menyisipkan Pesan"
      ],
      "metadata": {
        "id": "84Rxrfs-mjn5"
      }
    },
    {
      "cell_type": "code",
      "source": [
        "# Buka gambar\n",
        "img = Image.open('/content/burnice.jpg').convert('L')\n",
        "\n",
        "# Pesan yang akan disisipkan\n",
        "message = \"Halo, namaku burnice white!\"\n",
        "\n",
        "# Sisipkan pesan ke dalam gambar\n",
        "encoded_img = encode_message(img, message)\n",
        "\n",
        "# Simpan gambar hasil encoding\n",
        "encoded_img.save('/content/Burnice_encoded.png')\n",
        "print(\"Gambar dengan pesan tersimpan sebagai 'Burnice_encoded.png'.\")\n"
      ],
      "metadata": {
        "id": "MV_hF7Mcl0mB",
        "colab": {
          "base_uri": "https://localhost:8080/"
        },
        "outputId": "3ec0a403-e8b1-4d9f-ce9d-aa1ac5674bff"
      },
      "execution_count": 10,
      "outputs": [
        {
          "output_type": "stream",
          "name": "stdout",
          "text": [
            "Gambar dengan pesan tersimpan sebagai 'Burnice_encoded.png'.\n"
          ]
        }
      ]
    },
    {
      "cell_type": "markdown",
      "source": [
        "#5. Membaca Isi Pesan"
      ],
      "metadata": {
        "id": "tdx_HV7pmrpB"
      }
    },
    {
      "cell_type": "code",
      "source": [
        "# Buka gambar hasil encoding\n",
        "encoded_img = Image.open('/content/Burnice_encoded.png').convert('L')\n",
        "\n",
        "# Dekode pesan\n",
        "decoded_message = decode_message(encoded_img)\n",
        "print(\"Pesan tersembunyi:\", decoded_message)\n"
      ],
      "metadata": {
        "id": "q-QL1oDel3HH",
        "colab": {
          "base_uri": "https://localhost:8080/"
        },
        "outputId": "099d5395-3675-4c5f-8e0e-0197d9ee7a20"
      },
      "execution_count": 11,
      "outputs": [
        {
          "output_type": "stream",
          "name": "stdout",
          "text": [
            "Pesan tersembunyi: Halo, namaku burnice white!\n"
          ]
        }
      ]
    }
  ],
  "metadata": {
    "colab": {
      "provenance": [],
      "authorship_tag": "ABX9TyMeSnz6khrT73QczmHIs271",
      "include_colab_link": true
    },
    "kernelspec": {
      "display_name": "Python 3",
      "name": "python3"
    },
    "language_info": {
      "name": "python"
    }
  },
  "nbformat": 4,
  "nbformat_minor": 0
}